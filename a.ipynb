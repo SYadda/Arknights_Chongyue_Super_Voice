{
 "cells": [
  {
   "cell_type": "code",
   "execution_count": 1,
   "metadata": {},
   "outputs": [],
   "source": [
    "# python版，由于不好做前端，最终未采用\n",
    "\n",
    "from winsound import PlaySound \n",
    "import time\n",
    "import random"
   ]
  },
  {
   "cell_type": "code",
   "execution_count": 3,
   "metadata": {},
   "outputs": [],
   "source": [
    "with open('voice/编入队伍.wav', 'rb') as f:\n",
    "    编入队伍 = f.read()\n",
    "with open('voice/行动出发.wav', 'rb') as f:\n",
    "    行动出发 = f.read()\n",
    "with open('voice/选中干员1.wav', 'rb') as f:\n",
    "    选中干员1 = f.read()\n",
    "with open('voice/选中干员2.wav', 'rb') as f:\n",
    "    选中干员2 = f.read()\n",
    "with open('voice/部署1.wav', 'rb') as f:\n",
    "    部署1 = f.read()\n",
    "with open('voice/部署2.wav', 'rb') as f:\n",
    "    部署2 = f.read()"
   ]
  },
  {
   "cell_type": "code",
   "execution_count": 4,
   "metadata": {},
   "outputs": [],
   "source": [
    "# flags = 4 = winsound.SND_MEMORY\n",
    "PlaySound(编入队伍, 4) if random.randint(0, 1) else PlaySound(行动出发, 4)\n",
    "PlaySound(选中干员1, 4) if random.randint(0, 1) else PlaySound(选中干员2, 4)\n",
    "PlaySound(部署1, 4) # if random.randint(0, 1) else PlaySound(部署2, 4) # 这句太长了"
   ]
  },
  {
   "cell_type": "code",
   "execution_count": null,
   "metadata": {},
   "outputs": [],
   "source": [
    "for _ in range(20):\n",
    "    PlaySound('voice/作战中' + str(random.randint(1, 4)) + '.wav', flags=1)\n",
    "    time.sleep(1 + random.random())"
   ]
  }
 ],
 "metadata": {
  "kernelspec": {
   "display_name": "base",
   "language": "python",
   "name": "python3"
  },
  "language_info": {
   "codemirror_mode": {
    "name": "ipython",
    "version": 3
   },
   "file_extension": ".py",
   "mimetype": "text/x-python",
   "name": "python",
   "nbconvert_exporter": "python",
   "pygments_lexer": "ipython3",
   "version": "3.10.9"
  },
  "orig_nbformat": 4
 },
 "nbformat": 4,
 "nbformat_minor": 2
}
